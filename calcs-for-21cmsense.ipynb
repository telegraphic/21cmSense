{
 "cells": [
  {
   "cell_type": "code",
   "execution_count": 1,
   "metadata": {
    "collapsed": true
   },
   "outputs": [],
   "source": [
    " def closest(arr, val):\n",
    "     return np.argmin(np.abs(arr - val))"
   ]
  },
  {
   "cell_type": "code",
   "execution_count": 2,
   "metadata": {
    "collapsed": false
   },
   "outputs": [
    {
     "name": "stdout",
     "output_type": "stream",
     "text": [
      "(164,)\n",
      "(41,)\n",
      "(164, 41)\n"
     ]
    }
   ],
   "source": [
    "z   = np.genfromtxt('anastasia/z.txt')\n",
    "k   = np.genfromtxt('anastasia/K.txt')\n",
    "psh = np.genfromtxt('anastasia/PSh.txt')\n",
    "pss = np.genfromtxt('anastasia/PSs.txt')\n",
    "\n",
    "print z.shape\n",
    "print k.shape\n",
    "print psh.shape"
   ]
  },
  {
   "cell_type": "code",
   "execution_count": 3,
   "metadata": {
    "collapsed": false
   },
   "outputs": [],
   "source": [
    "plt.imshow(psh, extent=(k[0], k[-1], z[0], z[-1]), aspect='auto', cmap='jet')\n",
    "plt.colorbar(label='mK$^2$')\n",
    "plt.xlabel('k [1/Mpc]')\n",
    "plt.ylabel('z')\n",
    "plt.show()"
   ]
  },
  {
   "cell_type": "code",
   "execution_count": 6,
   "metadata": {
    "collapsed": false
   },
   "outputs": [],
   "source": [
    "z_target = 20.5\n",
    "z_idx    = closest(z, z_target)\n",
    "\n",
    "\n",
    "model_out = np.column_stack((k, psh[z_idx], np.zeros_like(k)))\n",
    "np.savetxt('fialkov_z20.5_psh.txt', model_out, delimiter='\\t')"
   ]
  },
  {
   "cell_type": "code",
   "execution_count": 16,
   "metadata": {
    "collapsed": false
   },
   "outputs": [],
   "source": [
    "plt.plot(model_out[:, 0], model_out[:, 1], c='#333333')\n",
    "plt.xlabel('k [1/Mpc]')\n",
    "plt.ylabel('mK$^2$')\n",
    "plt.title('z = 20.5')\n",
    "plt.show()"
   ]
  },
  {
   "cell_type": "code",
   "execution_count": 13,
   "metadata": {
    "collapsed": false
   },
   "outputs": [
    {
     "name": "stdout",
     "output_type": "stream",
     "text": [
      "66.0465116279 4.52711267606\n"
     ]
    }
   ],
   "source": [
    "freq_target = 1420 / (20.5 + 1)\n",
    "spacing_target = 2.99e8 / freq_target / 1e6\n",
    "print freq_target, spacing_target"
   ]
  },
  {
   "cell_type": "code",
   "execution_count": 11,
   "metadata": {
    "collapsed": false
   },
   "outputs": [
    {
     "data": {
      "text/plain": [
       "4.53030303030303"
      ]
     },
     "execution_count": 11,
     "metadata": {},
     "output_type": "execute_result"
    }
   ],
   "source": [
    "2.99e8 / 66.0e6"
   ]
  },
  {
   "cell_type": "code",
   "execution_count": null,
   "metadata": {
    "collapsed": true
   },
   "outputs": [],
   "source": []
  }
 ],
 "metadata": {
  "kernelspec": {
   "display_name": "Python 2",
   "language": "python",
   "name": "python2"
  },
  "language_info": {
   "codemirror_mode": {
    "name": "ipython",
    "version": 2
   },
   "file_extension": ".py",
   "mimetype": "text/x-python",
   "name": "python",
   "nbconvert_exporter": "python",
   "pygments_lexer": "ipython2",
   "version": "2.7.9"
  }
 },
 "nbformat": 4,
 "nbformat_minor": 0
}
